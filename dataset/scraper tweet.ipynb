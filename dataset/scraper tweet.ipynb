{
 "cells": [
  {
   "cell_type": "code",
   "execution_count": 2,
   "metadata": {},
   "outputs": [],
   "source": [
    "import tweepy\n",
    "import csv"
   ]
  },
  {
   "cell_type": "code",
   "execution_count": null,
   "metadata": {},
   "outputs": [],
   "source": [
    "access_token = \"1521454087195480064-Bl0rqtAgkLzl72uKt0zukxUOn3KU6D\"\n",
    "access_token_secret = \"PS8dUMhLKKipbIG0V0ufMrf4ScaaZ4DV0rV3tkMsGIPGY\"\n",
    "consumer_key = \"qiLhIOrzKvuIsHXW8btOnvUq8\"\n",
    "consumer_secret = \"E1Dq35FUkihdBwzlSYQAMrSW6BWG65IU5zkNc0FRJQV50qUMa2\""
   ]
  },
  {
   "cell_type": "code",
   "execution_count": 4,
   "metadata": {},
   "outputs": [],
   "source": [
    "auth = tweepy.OAuthHandler(consumer_key,consumer_secret)\n",
    "api = tweepy.API(auth)"
   ]
  },
  {
   "cell_type": "code",
   "execution_count": 5,
   "metadata": {},
   "outputs": [],
   "source": [
    "# Open/create a file to append data to\n",
    "csvFile = open('tweet.csv', 'w', encoding='utf-8')\n",
    "csvWriter = csv.writer(csvFile)"
   ]
  },
  {
   "cell_type": "code",
   "execution_count": null,
   "metadata": {},
   "outputs": [],
   "source": [
    "for tweet in tweepy.Cursor(api.search_tweets, q='#Python -filter:retweets', tweet_mode='extended',lang=\"id\", since='2021-01-01', until='2021-01-10').items(100):\n",
    "    text = tweet.full_text\n",
    "    user = tweet.user.name\n",
    "    created = tweet.created_at\n",
    "    csvWriter.writerow([created, text.encode('utf-8'), user])\n",
    "csvWriter = csv.writer(csvFile)\n",
    "csvFile.close()"
   ]
  },
  {
   "cell_type": "code",
   "execution_count": 8,
   "metadata": {},
   "outputs": [
    {
     "ename": "Unauthorized",
     "evalue": "401 Unauthorized\nUnauthorized",
     "output_type": "error",
     "traceback": [
      "\u001b[1;31m---------------------------------------------------------------------------\u001b[0m",
      "\u001b[1;31mUnauthorized\u001b[0m                              Traceback (most recent call last)",
      "\u001b[1;32mc:\\Users\\melli\\OneDrive\\Documents\\GitHub\\C22-PS276-Iswara\\dataset\\scraper tweet.ipynb Cell 6'\u001b[0m in \u001b[0;36m<cell line: 9>\u001b[1;34m()\u001b[0m\n\u001b[0;32m      <a href='vscode-notebook-cell:/c%3A/Users/melli/OneDrive/Documents/GitHub/C22-PS276-Iswara/dataset/scraper%20tweet.ipynb#ch0000006?line=6'>7</a>\u001b[0m client \u001b[39m=\u001b[39m tweepy\u001b[39m.\u001b[39mClient(consumer_key\u001b[39m=\u001b[39m consumer_key,consumer_secret\u001b[39m=\u001b[39m consumer_secret,access_token\u001b[39m=\u001b[39m access_token,access_token_secret\u001b[39m=\u001b[39m access_token_secret)\n\u001b[0;32m      <a href='vscode-notebook-cell:/c%3A/Users/melli/OneDrive/Documents/GitHub/C22-PS276-Iswara/dataset/scraper%20tweet.ipynb#ch0000006?line=7'>8</a>\u001b[0m query \u001b[39m=\u001b[39m \u001b[39m'\u001b[39m\u001b[39mnews\u001b[39m\u001b[39m'\u001b[39m\n\u001b[1;32m----> <a href='vscode-notebook-cell:/c%3A/Users/melli/OneDrive/Documents/GitHub/C22-PS276-Iswara/dataset/scraper%20tweet.ipynb#ch0000006?line=8'>9</a>\u001b[0m tweets \u001b[39m=\u001b[39m client\u001b[39m.\u001b[39;49msearch_recent_tweets(query\u001b[39m=\u001b[39;49mquery, max_results\u001b[39m=\u001b[39;49m\u001b[39m10\u001b[39;49m)\n\u001b[0;32m     <a href='vscode-notebook-cell:/c%3A/Users/melli/OneDrive/Documents/GitHub/C22-PS276-Iswara/dataset/scraper%20tweet.ipynb#ch0000006?line=9'>10</a>\u001b[0m \u001b[39mfor\u001b[39;00m tweet \u001b[39min\u001b[39;00m tweets\u001b[39m.\u001b[39mdata:\n\u001b[0;32m     <a href='vscode-notebook-cell:/c%3A/Users/melli/OneDrive/Documents/GitHub/C22-PS276-Iswara/dataset/scraper%20tweet.ipynb#ch0000006?line=10'>11</a>\u001b[0m     \u001b[39mprint\u001b[39m(tweet\u001b[39m.\u001b[39mtext)\n",
      "File \u001b[1;32mc:\\Users\\melli\\AppData\\Local\\Programs\\Python\\Python310\\lib\\site-packages\\tweepy\\client.py:1248\u001b[0m, in \u001b[0;36mClient.search_recent_tweets\u001b[1;34m(self, query, user_auth, **params)\u001b[0m\n\u001b[0;32m   <a href='file:///c%3A/Users/melli/AppData/Local/Programs/Python/Python310/lib/site-packages/tweepy/client.py?line=1155'>1156</a>\u001b[0m \u001b[39m\"\"\"search_recent_tweets( \\\u001b[39;00m\n\u001b[0;32m   <a href='file:///c%3A/Users/melli/AppData/Local/Programs/Python/Python310/lib/site-packages/tweepy/client.py?line=1156'>1157</a>\u001b[0m \u001b[39m    query, *, end_time=None, expansions=None, max_results=None, \\\u001b[39;00m\n\u001b[0;32m   <a href='file:///c%3A/Users/melli/AppData/Local/Programs/Python/Python310/lib/site-packages/tweepy/client.py?line=1157'>1158</a>\u001b[0m \u001b[39m    media_fields=None, next_token=None, place_fields=None, \\\u001b[39;00m\n\u001b[1;32m   (...)\u001b[0m\n\u001b[0;32m   <a href='file:///c%3A/Users/melli/AppData/Local/Programs/Python/Python310/lib/site-packages/tweepy/client.py?line=1244'>1245</a>\u001b[0m \u001b[39m.. _Academic Research Project: https://developer.twitter.com/en/docs/projects\u001b[39;00m\n\u001b[0;32m   <a href='file:///c%3A/Users/melli/AppData/Local/Programs/Python/Python310/lib/site-packages/tweepy/client.py?line=1245'>1246</a>\u001b[0m \u001b[39m\"\"\"\u001b[39;00m\n\u001b[0;32m   <a href='file:///c%3A/Users/melli/AppData/Local/Programs/Python/Python310/lib/site-packages/tweepy/client.py?line=1246'>1247</a>\u001b[0m params[\u001b[39m\"\u001b[39m\u001b[39mquery\u001b[39m\u001b[39m\"\u001b[39m] \u001b[39m=\u001b[39m query\n\u001b[1;32m-> <a href='file:///c%3A/Users/melli/AppData/Local/Programs/Python/Python310/lib/site-packages/tweepy/client.py?line=1247'>1248</a>\u001b[0m \u001b[39mreturn\u001b[39;00m \u001b[39mself\u001b[39;49m\u001b[39m.\u001b[39;49m_make_request(\n\u001b[0;32m   <a href='file:///c%3A/Users/melli/AppData/Local/Programs/Python/Python310/lib/site-packages/tweepy/client.py?line=1248'>1249</a>\u001b[0m     \u001b[39m\"\u001b[39;49m\u001b[39mGET\u001b[39;49m\u001b[39m\"\u001b[39;49m, \u001b[39m\"\u001b[39;49m\u001b[39m/2/tweets/search/recent\u001b[39;49m\u001b[39m\"\u001b[39;49m, params\u001b[39m=\u001b[39;49mparams,\n\u001b[0;32m   <a href='file:///c%3A/Users/melli/AppData/Local/Programs/Python/Python310/lib/site-packages/tweepy/client.py?line=1249'>1250</a>\u001b[0m     endpoint_parameters\u001b[39m=\u001b[39;49m(\n\u001b[0;32m   <a href='file:///c%3A/Users/melli/AppData/Local/Programs/Python/Python310/lib/site-packages/tweepy/client.py?line=1250'>1251</a>\u001b[0m         \u001b[39m\"\u001b[39;49m\u001b[39mend_time\u001b[39;49m\u001b[39m\"\u001b[39;49m, \u001b[39m\"\u001b[39;49m\u001b[39mexpansions\u001b[39;49m\u001b[39m\"\u001b[39;49m, \u001b[39m\"\u001b[39;49m\u001b[39mmax_results\u001b[39;49m\u001b[39m\"\u001b[39;49m, \u001b[39m\"\u001b[39;49m\u001b[39mmedia.fields\u001b[39;49m\u001b[39m\"\u001b[39;49m,\n\u001b[0;32m   <a href='file:///c%3A/Users/melli/AppData/Local/Programs/Python/Python310/lib/site-packages/tweepy/client.py?line=1251'>1252</a>\u001b[0m         \u001b[39m\"\u001b[39;49m\u001b[39mnext_token\u001b[39;49m\u001b[39m\"\u001b[39;49m, \u001b[39m\"\u001b[39;49m\u001b[39mplace.fields\u001b[39;49m\u001b[39m\"\u001b[39;49m, \u001b[39m\"\u001b[39;49m\u001b[39mpoll.fields\u001b[39;49m\u001b[39m\"\u001b[39;49m, \u001b[39m\"\u001b[39;49m\u001b[39mquery\u001b[39;49m\u001b[39m\"\u001b[39;49m,\n\u001b[0;32m   <a href='file:///c%3A/Users/melli/AppData/Local/Programs/Python/Python310/lib/site-packages/tweepy/client.py?line=1252'>1253</a>\u001b[0m         \u001b[39m\"\u001b[39;49m\u001b[39msince_id\u001b[39;49m\u001b[39m\"\u001b[39;49m, \u001b[39m\"\u001b[39;49m\u001b[39msort_order\u001b[39;49m\u001b[39m\"\u001b[39;49m, \u001b[39m\"\u001b[39;49m\u001b[39mstart_time\u001b[39;49m\u001b[39m\"\u001b[39;49m, \u001b[39m\"\u001b[39;49m\u001b[39mtweet.fields\u001b[39;49m\u001b[39m\"\u001b[39;49m,\n\u001b[0;32m   <a href='file:///c%3A/Users/melli/AppData/Local/Programs/Python/Python310/lib/site-packages/tweepy/client.py?line=1253'>1254</a>\u001b[0m         \u001b[39m\"\u001b[39;49m\u001b[39muntil_id\u001b[39;49m\u001b[39m\"\u001b[39;49m, \u001b[39m\"\u001b[39;49m\u001b[39muser.fields\u001b[39;49m\u001b[39m\"\u001b[39;49m\n\u001b[0;32m   <a href='file:///c%3A/Users/melli/AppData/Local/Programs/Python/Python310/lib/site-packages/tweepy/client.py?line=1254'>1255</a>\u001b[0m     ), data_type\u001b[39m=\u001b[39;49mTweet, user_auth\u001b[39m=\u001b[39;49muser_auth\n\u001b[0;32m   <a href='file:///c%3A/Users/melli/AppData/Local/Programs/Python/Python310/lib/site-packages/tweepy/client.py?line=1255'>1256</a>\u001b[0m )\n",
      "File \u001b[1;32mc:\\Users\\melli\\AppData\\Local\\Programs\\Python\\Python310\\lib\\site-packages\\tweepy\\client.py:126\u001b[0m, in \u001b[0;36mBaseClient._make_request\u001b[1;34m(self, method, route, params, endpoint_parameters, json, data_type, user_auth)\u001b[0m\n\u001b[0;32m    <a href='file:///c%3A/Users/melli/AppData/Local/Programs/Python/Python310/lib/site-packages/tweepy/client.py?line=121'>122</a>\u001b[0m \u001b[39mdef\u001b[39;00m \u001b[39m_make_request\u001b[39m(\u001b[39mself\u001b[39m, method, route, params\u001b[39m=\u001b[39m{}, endpoint_parameters\u001b[39m=\u001b[39m\u001b[39mNone\u001b[39;00m,\n\u001b[0;32m    <a href='file:///c%3A/Users/melli/AppData/Local/Programs/Python/Python310/lib/site-packages/tweepy/client.py?line=122'>123</a>\u001b[0m                   json\u001b[39m=\u001b[39m\u001b[39mNone\u001b[39;00m, data_type\u001b[39m=\u001b[39m\u001b[39mNone\u001b[39;00m, user_auth\u001b[39m=\u001b[39m\u001b[39mFalse\u001b[39;00m):\n\u001b[0;32m    <a href='file:///c%3A/Users/melli/AppData/Local/Programs/Python/Python310/lib/site-packages/tweepy/client.py?line=123'>124</a>\u001b[0m     request_params \u001b[39m=\u001b[39m \u001b[39mself\u001b[39m\u001b[39m.\u001b[39m_process_params(params, endpoint_parameters)\n\u001b[1;32m--> <a href='file:///c%3A/Users/melli/AppData/Local/Programs/Python/Python310/lib/site-packages/tweepy/client.py?line=125'>126</a>\u001b[0m     response \u001b[39m=\u001b[39m \u001b[39mself\u001b[39;49m\u001b[39m.\u001b[39;49mrequest(method, route, params\u001b[39m=\u001b[39;49mrequest_params,\n\u001b[0;32m    <a href='file:///c%3A/Users/melli/AppData/Local/Programs/Python/Python310/lib/site-packages/tweepy/client.py?line=126'>127</a>\u001b[0m                             json\u001b[39m=\u001b[39;49mjson, user_auth\u001b[39m=\u001b[39;49muser_auth)\n\u001b[0;32m    <a href='file:///c%3A/Users/melli/AppData/Local/Programs/Python/Python310/lib/site-packages/tweepy/client.py?line=128'>129</a>\u001b[0m     \u001b[39mif\u001b[39;00m \u001b[39mself\u001b[39m\u001b[39m.\u001b[39mreturn_type \u001b[39mis\u001b[39;00m requests\u001b[39m.\u001b[39mResponse:\n\u001b[0;32m    <a href='file:///c%3A/Users/melli/AppData/Local/Programs/Python/Python310/lib/site-packages/tweepy/client.py?line=129'>130</a>\u001b[0m         \u001b[39mreturn\u001b[39;00m response\n",
      "File \u001b[1;32mc:\\Users\\melli\\AppData\\Local\\Programs\\Python\\Python310\\lib\\site-packages\\tweepy\\client.py:97\u001b[0m, in \u001b[0;36mBaseClient.request\u001b[1;34m(self, method, route, params, json, user_auth)\u001b[0m\n\u001b[0;32m     <a href='file:///c%3A/Users/melli/AppData/Local/Programs/Python/Python310/lib/site-packages/tweepy/client.py?line=94'>95</a>\u001b[0m     \u001b[39mraise\u001b[39;00m BadRequest(response)\n\u001b[0;32m     <a href='file:///c%3A/Users/melli/AppData/Local/Programs/Python/Python310/lib/site-packages/tweepy/client.py?line=95'>96</a>\u001b[0m \u001b[39mif\u001b[39;00m response\u001b[39m.\u001b[39mstatus_code \u001b[39m==\u001b[39m \u001b[39m401\u001b[39m:\n\u001b[1;32m---> <a href='file:///c%3A/Users/melli/AppData/Local/Programs/Python/Python310/lib/site-packages/tweepy/client.py?line=96'>97</a>\u001b[0m     \u001b[39mraise\u001b[39;00m Unauthorized(response)\n\u001b[0;32m     <a href='file:///c%3A/Users/melli/AppData/Local/Programs/Python/Python310/lib/site-packages/tweepy/client.py?line=97'>98</a>\u001b[0m \u001b[39mif\u001b[39;00m response\u001b[39m.\u001b[39mstatus_code \u001b[39m==\u001b[39m \u001b[39m403\u001b[39m:\n\u001b[0;32m     <a href='file:///c%3A/Users/melli/AppData/Local/Programs/Python/Python310/lib/site-packages/tweepy/client.py?line=98'>99</a>\u001b[0m     \u001b[39mraise\u001b[39;00m Forbidden(response)\n",
      "\u001b[1;31mUnauthorized\u001b[0m: 401 Unauthorized\nUnauthorized"
     ]
    }
   ],
   "source": [
    "import tweepy\n",
    "access_token = \"1521454087195480064-Bl0rqtAgkLzl72uKt0zukxUOn3KU6D\"\n",
    "access_token_secret = \"PS8dUMhLKKipbIG0V0ufMrf4ScaaZ4DV0rV3tkMsGIPGY\"\n",
    "consumer_key = \"qiLhIOrzKvuIsHXW8btOnvUq8\"\n",
    "consumer_secret = \"E1Dq35FUkihdBwzlSYQAMrSW6BWG65IU5zkNc0FRJQV50qUMa2\"\n",
    "\n",
    "client = tweepy.Client(consumer_key= consumer_key,consumer_secret= consumer_secret,access_token= access_token,access_token_secret= access_token_secret)\n",
    "query = 'news'\n",
    "tweets = client.search_recent_tweets(query=query, max_results=10)\n",
    "for tweet in tweets.data:\n",
    "    print(tweet.text)"
   ]
  },
  {
   "cell_type": "markdown",
   "metadata": {},
   "source": []
  }
 ],
 "metadata": {
  "interpreter": {
   "hash": "b51345ca610e7a8404e7d5913c9c9082c26b7cc9f82c0fb2e4006519af425d45"
  },
  "kernelspec": {
   "display_name": "Python 3.10.3 64-bit",
   "language": "python",
   "name": "python3"
  },
  "language_info": {
   "codemirror_mode": {
    "name": "ipython",
    "version": 3
   },
   "file_extension": ".py",
   "mimetype": "text/x-python",
   "name": "python",
   "nbconvert_exporter": "python",
   "pygments_lexer": "ipython3",
   "version": "3.10.3"
  },
  "orig_nbformat": 4
 },
 "nbformat": 4,
 "nbformat_minor": 2
}
