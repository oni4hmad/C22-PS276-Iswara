{
 "cells": [
  {
   "cell_type": "code",
   "execution_count": 113,
   "metadata": {},
   "outputs": [],
   "source": [
    "from bs4 import BeautifulSoup\n",
    "#you can see more at https://www.crummy.com/software/BeautifulSoup/bs4/doc/"
   ]
  },
  {
   "cell_type": "code",
   "execution_count": 114,
   "metadata": {},
   "outputs": [],
   "source": [
    "import requests"
   ]
  },
  {
   "cell_type": "code",
   "execution_count": null,
   "metadata": {},
   "outputs": [],
   "source": [
    "url = 'https://www.kompas.com/tag/pelecehan-seksual'\n",
    "req = requests.get(url)\n",
    "print(req.text)"
   ]
  },
  {
   "cell_type": "code",
   "execution_count": 76,
   "metadata": {},
   "outputs": [],
   "source": [
    "soup = BeautifulSoup(req.text, 'lxml')\n",
    "a = soup.find_all('a',{'class' : 'article__link'})"
   ]
  },
  {
   "cell_type": "code",
   "execution_count": 116,
   "metadata": {},
   "outputs": [],
   "source": [
    "kumpulan_link = []\n",
    "kumpulan_paragraf = []"
   ]
  },
  {
   "cell_type": "code",
   "execution_count": 117,
   "metadata": {},
   "outputs": [],
   "source": [
    "for link in a: \n",
    "    kumpulan_link.append(link['href'])"
   ]
  },
  {
   "cell_type": "code",
   "execution_count": 118,
   "metadata": {},
   "outputs": [],
   "source": [
    "for link in kumpulan_link:\n",
    "    halaman = requests.get(link)\n",
    "    soup_baru = BeautifulSoup(halaman.text, 'lxml')\n",
    "    paragraf = soup_baru.find_all('p')\n",
    "    for kalimat in paragraf:\n",
    "        kumpulan_paragraf.append(kalimat.text)"
   ]
  },
  {
   "cell_type": "code",
   "execution_count": null,
   "metadata": {},
   "outputs": [],
   "source": [
    "with open('paragraf.txt', 'a') as f:\n",
    "    for paragraf in kumpulan_paragraf:\n",
    "        print('penulisan berhasil')\n",
    "        f.writelines(paragraf + '\\n')"
   ]
  },
  {
   "cell_type": "code",
   "execution_count": 59,
   "metadata": {},
   "outputs": [],
   "source": [
    "def get_n_url(count):\n",
    "    urls = []\n",
    "    if count < 1:\n",
    "        return urls\n",
    "    \n",
    "    page = 1\n",
    "    while True:\n",
    "        soup = get_html_content(url.format(page))\n",
    "        contents = soup.find_all('a',{'class' : 'article__link'})\n",
    "        for content in contents:\n",
    "            if len(urls) == count:\n",
    "                return urls\n",
    "            urls.append(content.attrs('href'))\n",
    "        page += 1"
   ]
  },
  {
   "cell_type": "code",
   "execution_count": 52,
   "metadata": {},
   "outputs": [],
   "source": [
    "def get_news_url (url):\n",
    "    list_url = []\n",
    "    all_list_url = []\n",
    "    content = get_html_content(url)\n",
    "    for link in content:\n",
    "        list_url.append(link.find('a',{'class' : 'article__link'}.attr['href']))\n",
    "    page += 1\n",
    "    all_list_url = all_list_url + list_url"
   ]
  },
  {
   "cell_type": "markdown",
   "metadata": {},
   "source": [
    "Scrapping 10 Berita Populer"
   ]
  },
  {
   "cell_type": "code",
   "execution_count": 85,
   "metadata": {},
   "outputs": [],
   "source": [
    "import requests"
   ]
  },
  {
   "cell_type": "code",
   "execution_count": 86,
   "metadata": {},
   "outputs": [],
   "source": [
    "from bs4 import BeautifulSoup"
   ]
  },
  {
   "cell_type": "code",
   "execution_count": 119,
   "metadata": {},
   "outputs": [],
   "source": [
    "#request halaman kompas\n",
    "url = 'https://www.kompas.com'\n",
    "kompas = requests.get(url)"
   ]
  },
  {
   "cell_type": "code",
   "execution_count": null,
   "metadata": {},
   "outputs": [],
   "source": [
    "beutify = BeautifulSoup(kompas.content)\n",
    "print(beutify)"
   ]
  },
  {
   "cell_type": "code",
   "execution_count": null,
   "metadata": {},
   "outputs": [],
   "source": [
    "populer = beutify.find('div',{'class', 'most__wrap clearfix'})\n",
    "berita = populer.find_all('div', {'class','most__list clearfix'})\n",
    "berita"
   ]
  },
  {
   "cell_type": "code",
   "execution_count": 134,
   "metadata": {},
   "outputs": [],
   "source": [
    "for each in berita:\n",
    "    no = each.find('div',{'class','most__count'}).text\n",
    "    judul = each.find('h4', {'class','most__title'}).text\n",
    "    link = each.a.get('href')\n",
    "    halaman = requests.get(link)\n",
    "    new_beautify = BeautifulSoup(halaman.text, 'lxml')\n",
    "    specifik_berita = new_beautify.find('div',{'class','read__content'})\n",
    "    paragraf = specifik_berita.find_all('p')\n",
    "    kumpulan_paragraf = []\n",
    "    for kalimat in paragraf:\n",
    "        kumpulan_paragraf.append(kalimat.text)"
   ]
  },
  {
   "cell_type": "markdown",
   "metadata": {},
   "source": [
    "OTHERWISE"
   ]
  },
  {
   "cell_type": "code",
   "execution_count": 9,
   "metadata": {},
   "outputs": [],
   "source": [
    "import requests\n",
    "from bs4 import BeautifulSoup"
   ]
  },
  {
   "cell_type": "code",
   "execution_count": null,
   "metadata": {},
   "outputs": [],
   "source": [
    "#konsep seperti diatas tapi dijadikan fungsi\n",
    "url = 'https://www.kompas.com/tag/pelecehan-seksual'\n",
    "def get_html_content(url):\n",
    "    html_content = requests.get(url).text\n",
    "    beutify = BeautifulSoup(html_content, 'lxml')\n",
    "    return soup"
   ]
  },
  {
   "cell_type": "code",
   "execution_count": 135,
   "metadata": {},
   "outputs": [],
   "source": [
    "artikel_berita = box_artikel.find_all('a', {'class','article__link'})"
   ]
  }
 ],
 "metadata": {
  "interpreter": {
   "hash": "b51345ca610e7a8404e7d5913c9c9082c26b7cc9f82c0fb2e4006519af425d45"
  },
  "kernelspec": {
   "display_name": "Python 3.10.3 64-bit",
   "language": "python",
   "name": "python3"
  },
  "language_info": {
   "codemirror_mode": {
    "name": "ipython",
    "version": 3
   },
   "file_extension": ".py",
   "mimetype": "text/x-python",
   "name": "python",
   "nbconvert_exporter": "python",
   "pygments_lexer": "ipython3",
   "version": "3.10.3"
  },
  "orig_nbformat": 4
 },
 "nbformat": 4,
 "nbformat_minor": 2
}
