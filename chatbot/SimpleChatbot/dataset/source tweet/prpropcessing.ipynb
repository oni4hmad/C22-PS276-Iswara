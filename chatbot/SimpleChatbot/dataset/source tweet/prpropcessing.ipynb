{
 "cells": [
  {
   "cell_type": "code",
   "execution_count": null,
   "metadata": {},
   "outputs": [],
   "source": [
    "import pandas as pd\n",
    "import re\n",
    "import csv\n",
    "import nltk  \n",
    "from nltk.tag import CRFTagger\n",
    "nltk.download('punkt')\n",
    "nltk.download('stopwords')\n",
    "from nltk.corpus import stopwords\n",
    "import numpy as np  \n",
    "import random  \n",
    "import string\n",
    "import unicodedata\n",
    "import matplotlib.pyplot as plt\n",
    "import joblib"
   ]
  },
  {
   "cell_type": "code",
   "execution_count": 66,
   "metadata": {},
   "outputs": [],
   "source": [
    "#with open('pelaku.csv', encoding='utf8') as pelakufile:\n",
    "#    pelakuFile = csv.reader(pelakufile, delimiter=\",\")\n",
    "#    print(pelakuFile)\n",
    "#    for row in pelakuFile:\n",
    "#        print(row)\n",
    "data = pd.read_csv('pelaku.csv', delimiter=\";\", on_bad_lines='skip')"
   ]
  },
  {
   "cell_type": "code",
   "execution_count": 67,
   "metadata": {},
   "outputs": [],
   "source": [
    "#Cleansing Teks Using Regex\n",
    "def clean_text(text):\n",
    "    '''Make text lowercase, remove text in square brackets, remove punctuation and remove words containing numbers.'''\n",
    "    text = ' '.join(re.sub(\"(?<=^|(?<=[^a-zA-Z0-9-_\\.]))@([A-Za-z]+[A-Za-z0-9-_]+)\",\" \",text).split()) #hapus username\n",
    "    text = ' '.join(re.sub(\"([^0-9A-Za-z \\t])|(\\w+:\\/\\/\\S+)\",\" \", text).split()) #hapus hastag + link\n",
    "    return text"
   ]
  },
  {
   "cell_type": "code",
   "execution_count": 68,
   "metadata": {},
   "outputs": [
    {
     "data": {
      "text/html": [
       "<div>\n",
       "<style scoped>\n",
       "    .dataframe tbody tr th:only-of-type {\n",
       "        vertical-align: middle;\n",
       "    }\n",
       "\n",
       "    .dataframe tbody tr th {\n",
       "        vertical-align: top;\n",
       "    }\n",
       "\n",
       "    .dataframe thead th {\n",
       "        text-align: right;\n",
       "    }\n",
       "</style>\n",
       "<table border=\"1\" class=\"dataframe\">\n",
       "  <thead>\n",
       "    <tr style=\"text-align: right;\">\n",
       "      <th></th>\n",
       "      <th>content</th>\n",
       "      <th>tag</th>\n",
       "    </tr>\n",
       "  </thead>\n",
       "  <tbody>\n",
       "    <tr>\n",
       "      <th>0</th>\n",
       "      <td>Rata2 pembenci ulama adalah pelaku maksiat kal...</td>\n",
       "      <td>hubungan</td>\n",
       "    </tr>\n",
       "    <tr>\n",
       "      <th>1</th>\n",
       "      <td>Gila ya beberapa komen ga ada empatinya malah ...</td>\n",
       "      <td>hubungan</td>\n",
       "    </tr>\n",
       "    <tr>\n",
       "      <th>2</th>\n",
       "      <td>Tiba2 mikir sebenernya aku korban pelaku ketik...</td>\n",
       "      <td>hubungan</td>\n",
       "    </tr>\n",
       "    <tr>\n",
       "      <th>3</th>\n",
       "      <td>1 Penasaran dia kim garam ini siapa sampe peti...</td>\n",
       "      <td>hubungan</td>\n",
       "    </tr>\n",
       "    <tr>\n",
       "      <th>4</th>\n",
       "      <td>Pelaku dosa dalam keadaan diam sebenarnya masi...</td>\n",
       "      <td>hubungan</td>\n",
       "    </tr>\n",
       "    <tr>\n",
       "      <th>...</th>\n",
       "      <td>...</td>\n",
       "      <td>...</td>\n",
       "    </tr>\n",
       "    <tr>\n",
       "      <th>94</th>\n",
       "      <td>Pelaku</td>\n",
       "      <td>hubungan</td>\n",
       "    </tr>\n",
       "    <tr>\n",
       "      <th>95</th>\n",
       "      <td>Pelaku dosa dalam keadaan diam sebenarnya masi...</td>\n",
       "      <td>hubungan</td>\n",
       "    </tr>\n",
       "    <tr>\n",
       "      <th>96</th>\n",
       "      <td>Kalo ada thread pelecehan ya sekedar dukung te...</td>\n",
       "      <td>hubungan</td>\n",
       "    </tr>\n",
       "    <tr>\n",
       "      <th>97</th>\n",
       "      <td>Kim Garam habislah sudah Aku yang cuma fans da...</td>\n",
       "      <td>hubungan</td>\n",
       "    </tr>\n",
       "    <tr>\n",
       "      <th>98</th>\n",
       "      <td>Kementrian pendidikan udah konfirmasi kalau Ki...</td>\n",
       "      <td>hubungan</td>\n",
       "    </tr>\n",
       "  </tbody>\n",
       "</table>\n",
       "<p>99 rows × 2 columns</p>\n",
       "</div>"
      ],
      "text/plain": [
       "                                              content       tag\n",
       "0   Rata2 pembenci ulama adalah pelaku maksiat kal...  hubungan\n",
       "1   Gila ya beberapa komen ga ada empatinya malah ...  hubungan\n",
       "2   Tiba2 mikir sebenernya aku korban pelaku ketik...  hubungan\n",
       "3   1 Penasaran dia kim garam ini siapa sampe peti...  hubungan\n",
       "4   Pelaku dosa dalam keadaan diam sebenarnya masi...  hubungan\n",
       "..                                                ...       ...\n",
       "94                                             Pelaku  hubungan\n",
       "95  Pelaku dosa dalam keadaan diam sebenarnya masi...  hubungan\n",
       "96  Kalo ada thread pelecehan ya sekedar dukung te...  hubungan\n",
       "97  Kim Garam habislah sudah Aku yang cuma fans da...  hubungan\n",
       "98  Kementrian pendidikan udah konfirmasi kalau Ki...  hubungan\n",
       "\n",
       "[99 rows x 2 columns]"
      ]
     },
     "execution_count": 68,
     "metadata": {},
     "output_type": "execute_result"
    }
   ],
   "source": [
    "data['content'] = data['content'].apply(clean_text)\n",
    "data"
   ]
  },
  {
   "cell_type": "code",
   "execution_count": 78,
   "metadata": {},
   "outputs": [],
   "source": [
    "#with open('pelakuFile.csv', 'w') as csvfile:\n",
    "#    cwriter = csv.writer(csvfile, delimiter=' ', quotechar='|', quoting=csv.QUOTE_MINIMAL)\n",
    "#    for w, c in p.items():\n",
    "#        cwriter.writerow(w + c)\n",
    "data.to_csv('pelakuFile.csv')"
   ]
  },
  {
   "cell_type": "code",
   "execution_count": 76,
   "metadata": {},
   "outputs": [],
   "source": []
  },
  {
   "cell_type": "code",
   "execution_count": 77,
   "metadata": {},
   "outputs": [
    {
     "ename": "SyntaxError",
     "evalue": "expected ':' (2590080470.py, line 1)",
     "output_type": "error",
     "traceback": [
      "\u001b[1;36m  Input \u001b[1;32mIn [77]\u001b[1;36m\u001b[0m\n\u001b[1;33m    with open('pelakuFile.csv', 'w') as pela\u001b[0m\n\u001b[1;37m                                            ^\u001b[0m\n\u001b[1;31mSyntaxError\u001b[0m\u001b[1;31m:\u001b[0m expected ':'\n"
     ]
    }
   ],
   "source": []
  },
  {
   "cell_type": "code",
   "execution_count": null,
   "metadata": {},
   "outputs": [],
   "source": []
  }
 ],
 "metadata": {
  "interpreter": {
   "hash": "b51345ca610e7a8404e7d5913c9c9082c26b7cc9f82c0fb2e4006519af425d45"
  },
  "kernelspec": {
   "display_name": "Python 3.10.3 64-bit",
   "language": "python",
   "name": "python3"
  },
  "language_info": {
   "codemirror_mode": {
    "name": "ipython",
    "version": 3
   },
   "file_extension": ".py",
   "mimetype": "text/x-python",
   "name": "python",
   "nbconvert_exporter": "python",
   "pygments_lexer": "ipython3",
   "version": "3.10.3"
  },
  "orig_nbformat": 4
 },
 "nbformat": 4,
 "nbformat_minor": 2
}
